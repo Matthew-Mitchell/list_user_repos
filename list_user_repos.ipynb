{
 "cells": [
  {
   "cell_type": "code",
   "execution_count": 1,
   "metadata": {},
   "outputs": [],
   "source": [
    "from github_api import *"
   ]
  },
  {
   "cell_type": "code",
   "execution_count": 2,
   "metadata": {},
   "outputs": [
    {
     "name": "stdout",
     "output_type": "stream",
     "text": [
      "Adaptive_Tutor\n",
      "Algorithms\n",
      "calculating-distance\n",
      "Challenges_and_Puzzles\n",
      "d3_examples\n",
      "dsp\n",
      "Gnip-Python-Historical-Utilities\n",
      "Matthew-Mitchell.github.io\n",
      "NYC-Oil-Boilers-Air-Impact\n",
      "Old_Movie_Recommendations\n",
      "PythonDeepLearningSamples\n",
      "Reading_Assistant\n",
      "retweet\n",
      "Stats\n",
      "TwitterStreaming\n"
     ]
    }
   ],
   "source": [
    "username = \"Matthew-Mitchell\"\n",
    "print_usr_repos(username)"
   ]
  },
  {
   "cell_type": "code",
   "execution_count": null,
   "metadata": {},
   "outputs": [],
   "source": []
  }
 ],
 "metadata": {
  "kernelspec": {
   "display_name": "Python 3",
   "language": "python",
   "name": "python3"
  },
  "language_info": {
   "codemirror_mode": {
    "name": "ipython",
    "version": 3
   },
   "file_extension": ".py",
   "mimetype": "text/x-python",
   "name": "python",
   "nbconvert_exporter": "python",
   "pygments_lexer": "ipython3",
   "version": "3.7.3"
  }
 },
 "nbformat": 4,
 "nbformat_minor": 2
}
